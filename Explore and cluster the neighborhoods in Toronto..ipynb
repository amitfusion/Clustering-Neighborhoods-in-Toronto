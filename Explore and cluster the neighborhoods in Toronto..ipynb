{
    "cells": [
        {
            "cell_type": "markdown",
            "metadata": {
                "collapsed": true
            },
            "source": "## Explore and cluster the neighborhoods in Toronto"
        },
        {
            "cell_type": "markdown",
            "metadata": {},
            "source": "#### Using https://foursquare.com/ to genrate API calls"
        },
        {
            "cell_type": "code",
            "execution_count": null,
            "metadata": {},
            "outputs": [],
            "source": "#!conda install -c conda-forge geopy --yes        \n#!conda install -c conda-forge folium=0.5.0 --yes \n\nimport numpy as np \nimport pandas as pd #\npd.set_option('display.max_columns', None)\npd.set_option('display.max_rows', None)\n\nimport json \n\n\nfrom geopy.geocoders import Nominatim \nGeoLocator = Nominatim(user_agent='My-IBMNotebook')\nimport requests \nfrom pandas.io.json import json_normalize \n\nimport matplotlib.cm as cm\nimport matplotlib.colors as colors\n\n\nfrom sklearn.cluster import KMeans\n\n!conda install -c conda-forge folium=0.5.0 --yes  \nimport folium "
        },
        {
            "cell_type": "code",
            "execution_count": null,
            "metadata": {},
            "outputs": [],
            "source": ""
        }
    ],
    "metadata": {
        "kernelspec": {
            "display_name": "Python 3.6",
            "language": "python",
            "name": "python3"
        },
        "language_info": {
            "codemirror_mode": {
                "name": "ipython",
                "version": 3
            },
            "file_extension": ".py",
            "mimetype": "text/x-python",
            "name": "python",
            "nbconvert_exporter": "python",
            "pygments_lexer": "ipython3",
            "version": "3.6.9"
        }
    },
    "nbformat": 4,
    "nbformat_minor": 1
}